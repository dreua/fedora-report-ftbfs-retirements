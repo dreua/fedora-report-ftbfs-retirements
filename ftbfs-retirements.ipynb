{
 "cells": [
  {
   "cell_type": "code",
   "execution_count": 1,
   "metadata": {},
   "outputs": [],
   "source": [
    "rawhide_pkgs = !repoquery --refresh --repo=koji-source --all --latest=1 2>/dev/null"
   ]
  },
  {
   "cell_type": "code",
   "execution_count": 2,
   "metadata": {},
   "outputs": [
    {
     "data": {
      "text/plain": [
       "['0ad-0:0.0.23b-11.fc32.src',\n",
       " '0ad-data-0:0.0.23b-3.fc31.src',\n",
       " '0xFFFF-0:0.8-2.fc31.src',\n",
       " '2048-cli-0:0.9.1-8.fc31.src',\n",
       " '2ping-0:4.3-5.fc32.src']"
      ]
     },
     "execution_count": 2,
     "metadata": {},
     "output_type": "execute_result"
    }
   ],
   "source": [
    "rawhide_pkgs[:5]"
   ]
  },
  {
   "cell_type": "code",
   "execution_count": 3,
   "metadata": {},
   "outputs": [
    {
     "name": "stdout",
     "output_type": "stream",
     "text": [
      "    elasticsearch-0:1.7.1-3.fc24.src\n",
      "    expresso-0:0.9.2-11.fc28.src\n",
      "XXX gdeploy-0:3.0.0-4.src\n",
      "    libocrdma-0:1.0.8-6.fc27.src\n",
      "    nuvola-app-google-calendar-0:1.2-7.fc29.src\n",
      "    nuvola-app-groove-0:2.0-2.fc28.src\n",
      "    nuvola-app-logitech-media-server-0:2.2-6.fc29.src\n",
      "    nuvola-app-plex-0:1.3-5.fc29.src\n",
      "    nuvola-app-soundcloud-0:1.3-5.fc29.src\n",
      "    nuvola-app-yandex-music-0:1.5-5.fc29.src\n",
      "XXX shim-0:15-8.src\n",
      "    shim-unsigned-aarch64-0:15-1.fc28.src\n",
      "    shim-unsigned-x64-0:15-1.fc28.src\n"
     ]
    }
   ],
   "source": [
    "s = set()\n",
    "\n",
    "for pkg in rawhide_pkgs:\n",
    "    nev, _, ra = pkg.rpartition('-')\n",
    "    name, _, ev = nev.rpartition('-')\n",
    "    epoch, _, version = ev.rpartition(':')\n",
    "    release, _, arch = ra.rpartition('.')\n",
    "    assert arch == 'src', pkg\n",
    "    fcpart = False\n",
    "    for part in reversed(release.split('.')):\n",
    "        if part.startswith('fc'):\n",
    "            fcpart = True\n",
    "            if part[:4] in ('fc32', 'fc31', 'fc30'):\n",
    "                break\n",
    "            else:\n",
    "                print('   ', pkg)\n",
    "                s.add(name)\n",
    "                break\n",
    "    else:\n",
    "        if not fcpart:\n",
    "            # special packages\n",
    "            if version == '32' and (name.startswith('fedora-') or name == 'generic-release'):\n",
    "                pass\n",
    "            else:\n",
    "                print('XXX', pkg)"
   ]
  },
  {
   "cell_type": "code",
   "execution_count": 4,
   "metadata": {},
   "outputs": [
    {
     "data": {
      "text/plain": [
       "['elasticsearch',\n",
       " 'expresso',\n",
       " 'libocrdma',\n",
       " 'nuvola-app-google-calendar',\n",
       " 'nuvola-app-groove',\n",
       " 'nuvola-app-logitech-media-server',\n",
       " 'nuvola-app-plex',\n",
       " 'nuvola-app-soundcloud',\n",
       " 'nuvola-app-yandex-music',\n",
       " 'shim-unsigned-aarch64',\n",
       " 'shim-unsigned-x64']"
      ]
     },
     "execution_count": 4,
     "metadata": {},
     "output_type": "execute_result"
    }
   ],
   "source": [
    "sorted(s)"
   ]
  },
  {
   "cell_type": "code",
   "execution_count": 5,
   "metadata": {},
   "outputs": [
    {
     "data": {
      "text/plain": [
       "11"
      ]
     },
     "execution_count": 5,
     "metadata": {},
     "output_type": "execute_result"
    }
   ],
   "source": [
    "len(s)"
   ]
  },
  {
   "cell_type": "code",
   "execution_count": null,
   "metadata": {},
   "outputs": [],
   "source": []
  }
 ],
 "metadata": {
  "kernelspec": {
   "display_name": "Python 3",
   "language": "python",
   "name": "python3"
  },
  "language_info": {
   "codemirror_mode": {
    "name": "ipython",
    "version": 3
   },
   "file_extension": ".py",
   "mimetype": "text/x-python",
   "name": "python",
   "nbconvert_exporter": "python",
   "pygments_lexer": "ipython3",
   "version": "3.7.6"
  }
 },
 "nbformat": 4,
 "nbformat_minor": 2
}
